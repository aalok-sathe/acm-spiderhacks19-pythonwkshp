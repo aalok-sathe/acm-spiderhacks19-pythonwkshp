{
 "cells": [
  {
   "cell_type": "markdown",
   "metadata": {},
   "source": [
    "## SpiderHacks Python workshop\n",
    "### Code-along (Jan 2019, University of Richmond)\n",
    "### No experience needed!\n",
    "\n",
    "(C) 2019.\n",
    "\n",
    "We will use this iPython notebook for our workshop on Python today.\n",
    "iPython is a handy way to code and also see the results live and in a\n",
    "sequential manner.\n",
    "\n",
    "To get started, please open this notebook through `Binder` if you\n",
    "haven't already, by clicking on the following badge.\n",
    "\n",
    "[![Binder](https://mybinder.org/badge_logo.svg)](https://mybinder.org/v2/gh/aalok-sathe/acm-spiderhacks19-pythonwkshp/master?filepath=pythonwkshp.ipynb)\n",
    "\n",
    "This notebook has text as well as code cells. To select a cell, you could use\n",
    "arrow keys to highlight it and press `return/enter`, or otherwise click inside\n",
    "a cell using your mouse pointer. To run a cell, hit `Ctrl-Enter` (GNU/linux) or\n",
    "`Cmd-Return` (mac). If your code gets stuck, feel free to restart the *kernel*."
   ]
  },
  {
   "cell_type": "markdown",
   "metadata": {},
   "source": [
    "### The basics"
   ]
  },
  {
   "cell_type": "markdown",
   "metadata": {},
   "source": [
    "In Python, any instruction you tell the computer is an *expression*.\n",
    "If you give the computer a really basic expression, it will simply give it back to you.\n",
    "Let's try this in the cells below:"
   ]
  },
  {
   "cell_type": "code",
   "execution_count": null,
   "metadata": {},
   "outputs": [],
   "source": [
    "# comments start with a hash '#' and are simply ignored"
   ]
  },
  {
   "cell_type": "code",
   "execution_count": null,
   "metadata": {},
   "outputs": [],
   "source": [
    "# numbers are plain old numbers\n",
    "12"
   ]
  },
  {
   "cell_type": "code",
   "execution_count": null,
   "metadata": {},
   "outputs": [],
   "source": [
    "'text needs to go in quotes'"
   ]
  },
  {
   "cell_type": "code",
   "execution_count": null,
   "metadata": {},
   "outputs": [],
   "source": [
    "\"use single or double quotes but be consistent!\""
   ]
  },
  {
   "cell_type": "code",
   "execution_count": null,
   "metadata": {},
   "outputs": [],
   "source": [
    "# Python does math for you\n",
    "(3+4)*5"
   ]
  },
  {
   "cell_type": "code",
   "execution_count": null,
   "metadata": {
    "scrolled": true
   },
   "outputs": [],
   "source": [
    "# even stuff that's not plain addition or multiplication\n",
    "2**4"
   ]
  },
  {
   "cell_type": "markdown",
   "metadata": {},
   "source": [
    "Expressions can go inside expressions, just like in math."
   ]
  },
  {
   "cell_type": "code",
   "execution_count": null,
   "metadata": {},
   "outputs": [],
   "source": [
    "1+(1+2)"
   ]
  },
  {
   "cell_type": "code",
   "execution_count": null,
   "metadata": {},
   "outputs": [],
   "source": [
    "(\"hello\" + \" \" + \"world\") + \"!\""
   ]
  },
  {
   "cell_type": "markdown",
   "metadata": {},
   "source": [
    "Strings can take the multiplication expression"
   ]
  },
  {
   "cell_type": "code",
   "execution_count": null,
   "metadata": {},
   "outputs": [],
   "source": [
    "'helloworld ' * 6"
   ]
  },
  {
   "cell_type": "markdown",
   "metadata": {},
   "source": [
    "The goal of computer programming is to be able to tell the computer useful instructions.\n",
    "The computer is happy to do as instructed for us (well, mostly).\n",
    "\n",
    "We find it useful for the computer to store certain kinds of information in its memory\n",
    "so we don't have to repeat the information everytime we want to do something with it.\n",
    "There comes the notion of *variables*. These things have:\n",
    "- a name\n",
    "- a value\n",
    "\n",
    "Try running the cell below. What are the variables? What are their names? What are their values?"
   ]
  },
  {
   "cell_type": "code",
   "execution_count": null,
   "metadata": {},
   "outputs": [],
   "source": [
    "my_number = 29\n",
    "my_string = \"Hello world!\""
   ]
  },
  {
   "cell_type": "markdown",
   "metadata": {},
   "source": [
    "Note above the peculiar way we tell Python the names and their *corresponding* values.\n",
    "There are only a handful of ways to do this in any language. This is called a language's Syntax. The statements above are called assignment expressions."
   ]
  },
  {
   "cell_type": "markdown",
   "metadata": {},
   "source": [
    "Your instructions about some important task will only be useful if you can see their effect.\n",
    "Sometimes computer need to provide output to you. In Python, we say `print` and supply it an expression enclosed in parentheses. You can print almost anything in Python. Now try it by running the cell below.\n",
    "\n",
    "To change the variable values, simply edit the cell above and re-run it. Then go to the cell below and run it again. The variables should now show the newer values."
   ]
  },
  {
   "cell_type": "code",
   "execution_count": null,
   "metadata": {
    "scrolled": false
   },
   "outputs": [],
   "source": [
    "# print( <some expression> )\n",
    "print(12) # print some number\n",
    "print(\"print some string\") # print some string\n",
    "print(my_number) # print a variable\n",
    "print(my_string) # print another variable"
   ]
  },
  {
   "cell_type": "markdown",
   "metadata": {},
   "source": [
    "Sometimes you want to print more than one thing at once"
   ]
  },
  {
   "cell_type": "code",
   "execution_count": null,
   "metadata": {},
   "outputs": [],
   "source": [
    "print(1, 2, 3, 4, 5)"
   ]
  },
  {
   "cell_type": "markdown",
   "metadata": {},
   "source": [
    "Now suppose you wanted them all separated by em-dashes ('---')."
   ]
  },
  {
   "cell_type": "code",
   "execution_count": null,
   "metadata": {},
   "outputs": [],
   "source": [
    "print(1, 2, 3, 4, 5, sep='---')"
   ]
  },
  {
   "cell_type": "markdown",
   "metadata": {},
   "source": [
    "Special character sequences in printing: `\\n` indicates newline; `\\t` indicates tab"
   ]
  },
  {
   "cell_type": "code",
   "execution_count": null,
   "metadata": {},
   "outputs": [],
   "source": [
    "s = 'some\\ntext that\\tis cool'"
   ]
  },
  {
   "cell_type": "code",
   "execution_count": null,
   "metadata": {},
   "outputs": [],
   "source": [
    "s"
   ]
  },
  {
   "cell_type": "code",
   "execution_count": null,
   "metadata": {},
   "outputs": [],
   "source": [
    "print(s)"
   ]
  },
  {
   "cell_type": "markdown",
   "metadata": {},
   "source": [
    "Suppose we wanted to print the next 10 numbers after `my_number`. Surely we can do that like so:"
   ]
  },
  {
   "cell_type": "code",
   "execution_count": null,
   "metadata": {},
   "outputs": [],
   "source": [
    "print(my_number + 1)\n",
    "print(my_number + 2)\n",
    "print(my_number + 3)\n",
    "print(my_number + 4)\n",
    "# ... fill out the rest and run the cell\n",
    "print(my_number + 10)"
   ]
  },
  {
   "cell_type": "markdown",
   "metadata": {},
   "source": [
    "That must have been tedious, if you did actually fill it out. Notice there's a predicatble *pattern*\n",
    "in our `print` instructions. Each next instruction changes only in the number added to `my_number`.\n",
    "Thankfully, there's a simpler way to acheive exactly that! Try running the cell below."
   ]
  },
  {
   "cell_type": "code",
   "execution_count": null,
   "metadata": {},
   "outputs": [],
   "source": [
    "for number_to_add in [1, 2, 3, 4, 5, 6, 7, 8, 9, 10]:\n",
    "    print(my_number + number_to_add)"
   ]
  },
  {
   "cell_type": "markdown",
   "metadata": {},
   "source": [
    "What you just did was print a template expression for each of the values in some sort of a list of numbers.\n",
    "There are a couple of new things here. We call this the `for` loop, obviously because of the way it's written:\n",
    "```\n",
    "for x in collection:\n",
    "    do something with 'x' here!\n",
    "```\n",
    "\n",
    "You also saw a list, `[1,2,3,4,5,6,7,8,9,10]`, enclosed by square brackets, and storing comma-separated\n",
    "values. In general, things that store other things are called collections. Lists are just one of\n",
    "many kinds of collections in Python.\n",
    "\n",
    "`for` loops as well as lists are super useful in Python."
   ]
  },
  {
   "cell_type": "markdown",
   "metadata": {},
   "source": [
    "In reality, even writing out numbers in a list like above is considered tedious and un-*pythonic*.\n",
    "The better (more *pythonic*) way to do it would be:"
   ]
  },
  {
   "cell_type": "code",
   "execution_count": null,
   "metadata": {},
   "outputs": [],
   "source": [
    "for number_to_add in range(1,10+1):\n",
    "    print(my_number + number_to_add)"
   ]
  },
  {
   "cell_type": "markdown",
   "metadata": {},
   "source": [
    "Note that `range(start, end, step)` is defined by where to start, and one after where to end. The 'step' is how much to advance by. In the cell below, write a for-loop that does the equivalent of\n",
    "\n",
    "    print(my_number + 1)\n",
    "    print(my_number + 4)\n",
    "    print(my_number + 7)\n",
    "    print(my_number + 10)\n",
    "    # ... up to 10 times"
   ]
  },
  {
   "cell_type": "code",
   "execution_count": null,
   "metadata": {},
   "outputs": [],
   "source": [
    "for ..."
   ]
  },
  {
   "cell_type": "markdown",
   "metadata": {},
   "source": [
    "In Python3, `range` creates what are called *generators*. A generator is a way to save memory: in this case, it constitutes instructions to Python on how to create a particular list, but it just hasn't been created yet. Let's see what happens when we simply type in `range`.\n",
    "In the cell below, write an expression generating a range of all the even numbers (positive integers) up until 25."
   ]
  },
  {
   "cell_type": "code",
   "execution_count": null,
   "metadata": {},
   "outputs": [],
   "source": [
    "range(...)"
   ]
  },
  {
   "cell_type": "markdown",
   "metadata": {},
   "source": [
    "That certainly wasn't an actual list. But we can get a list from a generator pretty easily: we call `list()` on it:"
   ]
  },
  {
   "cell_type": "code",
   "execution_count": null,
   "metadata": {},
   "outputs": [],
   "source": [
    "list(range(...))"
   ]
  },
  {
   "cell_type": "markdown",
   "metadata": {},
   "source": [
    "Fortunately, for-loops support simple `range` or generator objects rather than requiring lists. This means less cluttered code that is in fact more efficient: computation only when it's necessary."
   ]
  },
  {
   "cell_type": "markdown",
   "metadata": {},
   "source": [
    "Similar to the for-loops above, we have `while` loops that continue to run in a loop until some condition is satisfied."
   ]
  },
  {
   "cell_type": "markdown",
   "metadata": {},
   "source": [
    "Make it so that `l` is a list of numbers from 0 to 12. "
   ]
  },
  {
   "cell_type": "code",
   "execution_count": null,
   "metadata": {},
   "outputs": [],
   "source": [
    "l = list(range())"
   ]
  },
  {
   "cell_type": "markdown",
   "metadata": {},
   "source": [
    "Now we will run a loop while there are still items in the list. We will use a function called `len` to check the length of the list. Calling `pop()` on `l` removes and produces the next item in line. Consequently, it reduces the length of `l` by one."
   ]
  },
  {
   "cell_type": "code",
   "execution_count": null,
   "metadata": {},
   "outputs": [],
   "source": [
    "while len(l) > 0:\n",
    "    top = l.pop()\n",
    "    print('loop ran ' + str(top) + ' times')"
   ]
  },
  {
   "cell_type": "markdown",
   "metadata": {},
   "source": [
    "### Transitioning from Java"
   ]
  },
  {
   "cell_type": "markdown",
   "metadata": {},
   "source": [
    "Some of you may be familiar with Java. In this section, we'll look at\n",
    "some of the familiar syntax you may have seen in Java, and explore how\n",
    "to translate it to Python."
   ]
  },
  {
   "cell_type": "markdown",
   "metadata": {},
   "source": [
    "#### The 'main' class and file naming\n",
    "In Java, you likely needed to write code in a `main` method in a `main` class and name files\n",
    "in a peculiar way. Otherwise the Java compiler would have complained. A lot.\n",
    "In Python, you can still have classes and you can name files after them too. However, this is in no way\n",
    "required, and your code will run just fine as long as the code is actually valid.\n",
    "We're using an interpreter kernel right now, so Python code you run here is being run line-by-line,\n",
    "and not compiled and then run all at once."
   ]
  },
  {
   "cell_type": "code",
   "execution_count": null,
   "metadata": {
    "scrolled": true
   },
   "outputs": [],
   "source": [
    "print(\"this line will run first, even though an error is coming up\")\n",
    "print(\"this line will run next, even though the error is around the corner\")\n",
    "print(\"this line will cause an error because we try to add a number to a string of text\" + 1)\n",
    "print(\"this line will NOT run because the previous one would have caused an error\")"
   ]
  },
  {
   "cell_type": "markdown",
   "metadata": {},
   "source": [
    "You used to say `System.io.println()` in Java. Instead you say `print()` in Python.\n",
    "If you didn't want the extra line at the end, tell Python! If you want to print many\n",
    "items at once, do that! If you want the items to be separated by some text, no problem."
   ]
  },
  {
   "cell_type": "code",
   "execution_count": null,
   "metadata": {},
   "outputs": [],
   "source": [
    "print(\"some text\")\n",
    "print(\"some more text\", end=\"\")\n",
    "print(\"first\", \"second\", \"third\", sep=' ... ')"
   ]
  },
  {
   "cell_type": "markdown",
   "metadata": {},
   "source": [
    "In Java you had arrays, arraylists, lists, and so on. In Python we like to keep things simple.\n",
    "You have the `list`, an all-purpose container for stuff."
   ]
  },
  {
   "cell_type": "code",
   "execution_count": null,
   "metadata": {},
   "outputs": [],
   "source": [
    "my_list = list() # create a list by calling the list constructor function\n",
    "your_list = [] # or, create an empty list explicitly (more common)\n",
    "a_third_list = [0,11,22,33] # create list with items already in it\n",
    "list_of_stuff = [11, \"this is some text\", a_third_list] # anything can go in a list!"
   ]
  },
  {
   "cell_type": "code",
   "execution_count": null,
   "metadata": {},
   "outputs": [],
   "source": [
    "print(my_list, your_list, a_third_list, list_of_stuff, sep='\\n')"
   ]
  },
  {
   "cell_type": "markdown",
   "metadata": {},
   "source": [
    "Revisiting the `for` loop. In the cell below, your task will be to write a for loop\n",
    "that goes through each item in `a_list_of_stuff` and prints out the item."
   ]
  },
  {
   "cell_type": "code",
   "execution_count": null,
   "metadata": {},
   "outputs": [],
   "source": [
    "for ? in ?:\n",
    "    ?"
   ]
  },
  {
   "cell_type": "markdown",
   "metadata": {},
   "source": [
    "To access items from a list, we use index, just like in Java. To access a sub-list,\n",
    "we 'slice' a list. Indices start at 0, just like in Java."
   ]
  },
  {
   "cell_type": "code",
   "execution_count": null,
   "metadata": {},
   "outputs": [],
   "source": [
    "print(a_third_list[0], a_third_list[1], a_third_list[2])\n",
    "print(a_third_list[0:3]) # upper bound is excluded from slice. lower bound is picked.\n",
    "print(a_third_list[0:4]) # the maximum index of the list is 3.\n",
    "print(a_third_list[1:]) # no upper bound specified: slice includes all the remaining items"
   ]
  },
  {
   "cell_type": "code",
   "execution_count": null,
   "metadata": {},
   "outputs": [],
   "source": [
    "print(list_of_stuff) # plain old print statement on a list\n",
    "print(list_of_stuff[1:]) # pick items from index 1 onwards\n",
    "print(list_of_stuff[2][2:]) # slices can be used on lists, even if they are inside another list\n",
    "print(list_of_stuff[1:][0]) # slices produce lists too, so they can be indexed. or further sliced!"
   ]
  },
  {
   "cell_type": "markdown",
   "metadata": {},
   "source": [
    "Lists are only useful if you can add stuff to them. Fortunately you can do just that."
   ]
  },
  {
   "cell_type": "code",
   "execution_count": null,
   "metadata": {},
   "outputs": [],
   "source": [
    "my_list = []\n",
    "print(my_list) # is this list empty?"
   ]
  },
  {
   "cell_type": "code",
   "execution_count": null,
   "metadata": {},
   "outputs": [],
   "source": [
    "my_list.append(32)\n",
    "my_list.append(12)\n",
    "my_list.append(178)"
   ]
  },
  {
   "cell_type": "code",
   "execution_count": null,
   "metadata": {},
   "outputs": [],
   "source": [
    "print(my_list) # better not still be empty"
   ]
  },
  {
   "cell_type": "code",
   "execution_count": null,
   "metadata": {},
   "outputs": [],
   "source": [
    "del my_list[1] # delete a particular index from the list\n",
    "print(my_list)"
   ]
  },
  {
   "cell_type": "markdown",
   "metadata": {},
   "source": [
    "#### Types\n",
    "Languages such as Java are *strictly-typed* languages: they require you to specify each variable's type before they'll let you compile something.\n",
    "In Python, too, there are types: you just don't need to specify them when declaring variables.\n",
    "However, if you use the in-built function `type()`, you should be able to see what any object's type is.\n",
    "\n",
    "Consider the objects being named below."
   ]
  },
  {
   "cell_type": "code",
   "execution_count": null,
   "metadata": {},
   "outputs": [],
   "source": [
    "a = range(60, 100, 1)\n",
    "b = 2019\n",
    "c = 3.1415\n",
    "d = 5 in range(0, 8, 1)\n",
    "e = 5 in range(0, 8, 2)\n",
    "f = 7 > 3\n",
    "g = 'some text. any text.'"
   ]
  },
  {
   "cell_type": "markdown",
   "metadata": {},
   "source": [
    "Write a for-loop that prints the type of each of these objects, contained in a list, separated by '...'"
   ]
  },
  {
   "cell_type": "code",
   "execution_count": null,
   "metadata": {},
   "outputs": [],
   "source": [
    "for ... in [...]:\n",
    "    ?"
   ]
  },
  {
   "cell_type": "markdown",
   "metadata": {},
   "source": [
    "Some things sometimes need to be converted to another type. Almost everything in Python has a string representation, which you can get by simply calling `str` on it."
   ]
  },
  {
   "cell_type": "code",
   "execution_count": null,
   "metadata": {},
   "outputs": [],
   "source": [
    "str(288)"
   ]
  },
  {
   "cell_type": "markdown",
   "metadata": {},
   "source": [
    "Similarly, if you had a string which was actually a number, and wanted to convert it into one so that you would be able to use it in computation, then you can call `int` or `float` on it."
   ]
  },
  {
   "cell_type": "code",
   "execution_count": null,
   "metadata": {},
   "outputs": [],
   "source": [
    "a = '231'\n",
    "b = '35256.2'"
   ]
  },
  {
   "cell_type": "markdown",
   "metadata": {},
   "source": [
    "Multiply the two numbers above by first converting them to appropriate numerical types."
   ]
  },
  {
   "cell_type": "code",
   "execution_count": null,
   "metadata": {},
   "outputs": [],
   "source": [
    "num_a = \n",
    "num_b = \n",
    "# ..."
   ]
  },
  {
   "cell_type": "markdown",
   "metadata": {},
   "source": [
    "In addition to some of the types above, booleans are particularly useful types."
   ]
  },
  {
   "cell_type": "code",
   "execution_count": null,
   "metadata": {},
   "outputs": [],
   "source": [
    "1 < 2"
   ]
  },
  {
   "cell_type": "code",
   "execution_count": null,
   "metadata": {},
   "outputs": [],
   "source": [
    "2 == 3"
   ]
  },
  {
   "cell_type": "code",
   "execution_count": null,
   "metadata": {},
   "outputs": [],
   "source": [
    "11 == 11"
   ]
  },
  {
   "cell_type": "markdown",
   "metadata": {},
   "source": [
    "Expressions are evaluated before truth values"
   ]
  },
  {
   "cell_type": "code",
   "execution_count": null,
   "metadata": {},
   "outputs": [],
   "source": [
    "100 / 2 == 50"
   ]
  },
  {
   "cell_type": "code",
   "execution_count": null,
   "metadata": {},
   "outputs": [],
   "source": [
    "5 + 2 + 1 > 10"
   ]
  },
  {
   "cell_type": "code",
   "execution_count": null,
   "metadata": {},
   "outputs": [],
   "source": [
    "\"hello\" == 'hello'"
   ]
  },
  {
   "cell_type": "markdown",
   "metadata": {},
   "source": [
    "Containment tests"
   ]
  },
  {
   "cell_type": "code",
   "execution_count": null,
   "metadata": {},
   "outputs": [],
   "source": [
    "'hi' in 'hibernation'"
   ]
  },
  {
   "cell_type": "code",
   "execution_count": null,
   "metadata": {},
   "outputs": [],
   "source": [
    "'to the' in 'welcome to the hackathon'"
   ]
  },
  {
   "cell_type": "code",
   "execution_count": null,
   "metadata": {},
   "outputs": [],
   "source": [
    "'error' not in 'program has finished executing'"
   ]
  },
  {
   "cell_type": "code",
   "execution_count": null,
   "metadata": {},
   "outputs": [],
   "source": [
    "'error' in 'Error'"
   ]
  },
  {
   "cell_type": "code",
   "execution_count": null,
   "metadata": {},
   "outputs": [],
   "source": [
    "'hello' in ['h', 'how are you', 'hello', 'okay']"
   ]
  },
  {
   "cell_type": "markdown",
   "metadata": {},
   "source": [
    "A pair of booleans"
   ]
  },
  {
   "cell_type": "code",
   "execution_count": null,
   "metadata": {},
   "outputs": [],
   "source": [
    "True, False"
   ]
  },
  {
   "cell_type": "code",
   "execution_count": null,
   "metadata": {},
   "outputs": [],
   "source": [
    "True or False"
   ]
  },
  {
   "cell_type": "code",
   "execution_count": null,
   "metadata": {},
   "outputs": [],
   "source": [
    "True and False"
   ]
  },
  {
   "cell_type": "code",
   "execution_count": null,
   "metadata": {},
   "outputs": [],
   "source": [
    "not False"
   ]
  },
  {
   "cell_type": "markdown",
   "metadata": {},
   "source": [
    "#### Flow control: if-statements\n",
    "Code can be executed conditionally. Python uses an `if-else` syntax to evaluate conditional flow. Pick an arbitrary value for a number below. Make sure it's an integer."
   ]
  },
  {
   "cell_type": "code",
   "execution_count": null,
   "metadata": {},
   "outputs": [],
   "source": [
    "my_number = "
   ]
  },
  {
   "cell_type": "markdown",
   "metadata": {},
   "source": [
    "What is the block below supposed to do?\n",
    "Complete the block below and run it. It would probably raise an error. Why is the code erroneous? What have we forgotten to do according to the error message?"
   ]
  },
  {
   "cell_type": "code",
   "execution_count": null,
   "metadata": {},
   "outputs": [],
   "source": [
    "if my_number % 2 == 0:\n",
    "    print(my_number + ' is even.')\n",
    "else:\n",
    "    print ..."
   ]
  },
  {
   "cell_type": "markdown",
   "metadata": {},
   "source": [
    "#### Functions\n",
    "Functions (or *procedures*) are a neat way of writing blocks of code that together does something bigger and meaningful\n",
    "and is convenient to run all together on some input. Here's how to define a function:"
   ]
  },
  {
   "cell_type": "code",
   "execution_count": null,
   "metadata": {},
   "outputs": [],
   "source": [
    "def my_function(argument1, argument2, ...):\n",
    "    # do something here\n",
    "    pass"
   ]
  },
  {
   "cell_type": "markdown",
   "metadata": {},
   "source": [
    "Let's write a function called `print10` that prints 10 numbers after the number given as an argument."
   ]
  },
  {
   "cell_type": "code",
   "execution_count": null,
   "metadata": {},
   "outputs": [],
   "source": [
    "def print10"
   ]
  },
  {
   "cell_type": "markdown",
   "metadata": {},
   "source": [
    "Other than just doing arbitrary stuff on an input, such as printing it, functions can also *return* expressions, or hand them back to whoever called the function. What does the function below do?"
   ]
  },
  {
   "cell_type": "code",
   "execution_count": null,
   "metadata": {},
   "outputs": [],
   "source": [
    "def mult10(x):\n",
    "    print(10*x)\n",
    "    return 10*x"
   ]
  },
  {
   "cell_type": "code",
   "execution_count": null,
   "metadata": {},
   "outputs": [],
   "source": [
    "mult10(3)"
   ]
  },
  {
   "cell_type": "code",
   "execution_count": null,
   "metadata": {},
   "outputs": [],
   "source": [
    "multi10('hello')"
   ]
  },
  {
   "cell_type": "markdown",
   "metadata": {},
   "source": [
    "##### Exercise (adapted from 'thinkpython' ch. 3)\n",
    "1. Write a function called `draw` that takes in a number `x` and prints `x`-wide rectangle like so:\n",
    "    \n",
    "    `draw(10)`\n",
    "    \n",
    "       +----------+\n",
    "       +          +\n",
    "       +----------+\n",
    "      \n",
    "where the number of `-`s is `x`.\n",
    "Hint: strings can be concatenated an arbitrary number of times using the multiplication operator.\n",
    "\n",
    "2. Write a function called `drawsquare` that draws an equal number of symbols vertically and horizontally, to a given side-length `x`.\n",
    "\n",
    "    `drawsquare(7)`\n",
    "    \n",
    "        +-------+\n",
    "        |       |\n",
    "        |       |\n",
    "        |       |\n",
    "        |       |\n",
    "        |       |\n",
    "        |       |\n",
    "        |       |\n",
    "        +-------+"
   ]
  },
  {
   "cell_type": "markdown",
   "metadata": {},
   "source": [
    "Functions can be *composed*: a function call may use another function in its argument, or in its body.\n",
    "Something like `function1(function2(x))` would first carry out `function2` on `x` and then `function1` on the result of `function2(x)`. Write two functions below that would give desired output in the cells after that."
   ]
  },
  {
   "cell_type": "code",
   "execution_count": null,
   "metadata": {},
   "outputs": [],
   "source": [
    "def make_positive(x):\n",
    "    if x >= 0:\n",
    "        return x\n",
    "    else:\n",
    "        # ... do something here"
   ]
  },
  {
   "cell_type": "code",
   "execution_count": null,
   "metadata": {},
   "outputs": [],
   "source": [
    "import math\n",
    "def squareroot(x):\n",
    "    sqrt_x = math.sqrt(x)\n",
    "    # ..."
   ]
  },
  {
   "cell_type": "code",
   "execution_count": null,
   "metadata": {},
   "outputs": [],
   "source": [
    "print(squareroot(make_positive(25)))"
   ]
  },
  {
   "cell_type": "code",
   "execution_count": null,
   "metadata": {},
   "outputs": [],
   "source": [
    "print(squareroot(make_positive(-64)))"
   ]
  },
  {
   "cell_type": "markdown",
   "metadata": {},
   "source": [
    "##### Exercise\n",
    "Now using your solution to the previous exercise, write a function that outputs a given number of `drawsquare` outputs of the same length, one after another."
   ]
  },
  {
   "cell_type": "markdown",
   "metadata": {},
   "source": [
    "#### File i/o\n"
   ]
  },
  {
   "cell_type": "code",
   "execution_count": null,
   "metadata": {},
   "outputs": [],
   "source": [
    "with open('README.md', 'r') as file:\n",
    "    text = file.read()"
   ]
  },
  {
   "cell_type": "code",
   "execution_count": null,
   "metadata": {},
   "outputs": [],
   "source": [
    "print(text)"
   ]
  },
  {
   "cell_type": "markdown",
   "metadata": {},
   "source": [
    "If a file is large, we probably don't want to read everything at once."
   ]
  },
  {
   "cell_type": "code",
   "execution_count": null,
   "metadata": {},
   "outputs": [],
   "source": [
    "with open('README.md', 'r') as file:\n",
    "    for line in file:\n",
    "        print(line)"
   ]
  },
  {
   "cell_type": "markdown",
   "metadata": {},
   "source": [
    "#### Unpacking\n",
    "Stuff in iterables (lists, range, etc) can be 'unpacked'"
   ]
  },
  {
   "cell_type": "code",
   "execution_count": null,
   "metadata": {},
   "outputs": [],
   "source": [
    "l = [(1, 2), (3, 4), (5, 6)]"
   ]
  },
  {
   "cell_type": "markdown",
   "metadata": {},
   "source": [
    "The list above stores pairs, or 2-tuples of numbers. Write a for-loop that prints out both the numbers of a pair and their addition on a single line."
   ]
  },
  {
   "cell_type": "code",
   "execution_count": null,
   "metadata": {},
   "outputs": [],
   "source": [
    "for (x, y) in l:\n",
    "    # ... do something"
   ]
  },
  {
   "cell_type": "markdown",
   "metadata": {},
   "source": [
    "#### List comprehension\n",
    "Lists can be created without the need for a full for-loop. Using similar syntax, lists may be created using a single line. Generators and ranges are automatically 'unpacked'."
   ]
  },
  {
   "cell_type": "code",
   "execution_count": null,
   "metadata": {},
   "outputs": [],
   "source": [
    "[x for x in range(10)]"
   ]
  },
  {
   "cell_type": "code",
   "execution_count": null,
   "metadata": {},
   "outputs": [],
   "source": [
    "[x**2 for x in range(10)]"
   ]
  },
  {
   "cell_type": "code",
   "execution_count": null,
   "metadata": {},
   "outputs": [],
   "source": [
    "[c.upper() for c in 'some text']"
   ]
  },
  {
   "cell_type": "markdown",
   "metadata": {},
   "source": [
    "##### Exercise\n",
    "Write a list comprehension expression to create a list of numbers divisible by 3 between 0 and 20"
   ]
  },
  {
   "cell_type": "markdown",
   "metadata": {},
   "source": [
    "#### Set\n",
    "It's a collection of objects with no duplicates and fast containment access"
   ]
  },
  {
   "cell_type": "code",
   "execution_count": null,
   "metadata": {},
   "outputs": [],
   "source": [
    "powers_of_two = {1, 2, 4, 8, 16, 32}"
   ]
  },
  {
   "cell_type": "markdown",
   "metadata": {},
   "source": [
    "List comprehension syntax works for most collections of objects"
   ]
  },
  {
   "cell_type": "code",
   "execution_count": null,
   "metadata": {},
   "outputs": [],
   "source": [
    "powers_of_two = {2**x for x in range(10)}"
   ]
  },
  {
   "cell_type": "markdown",
   "metadata": {},
   "source": [
    "##### Exercise\n",
    "Write a for-loop over numbers between 1 and 100, and for each one, print the number and whether it's a power of two."
   ]
  },
  {
   "cell_type": "markdown",
   "metadata": {},
   "source": [
    "You can call `set()` on a collection to remove duplicates."
   ]
  },
  {
   "cell_type": "code",
   "execution_count": null,
   "metadata": {},
   "outputs": [],
   "source": [
    "l = [1, 1, 2, 1, 4, 2, 3, 8]"
   ]
  },
  {
   "cell_type": "code",
   "execution_count": null,
   "metadata": {},
   "outputs": [],
   "source": [
    "set(l)"
   ]
  },
  {
   "cell_type": "markdown",
   "metadata": {},
   "source": [
    "### Extra time activity: a [very] basic chatbot"
   ]
  },
  {
   "cell_type": "code",
   "execution_count": null,
   "metadata": {},
   "outputs": [],
   "source": []
  }
 ],
 "metadata": {
  "kernelspec": {
   "display_name": "Python 3",
   "language": "python",
   "name": "python3"
  },
  "language_info": {
   "codemirror_mode": {
    "name": "ipython",
    "version": 3
   },
   "file_extension": ".py",
   "mimetype": "text/x-python",
   "name": "python",
   "nbconvert_exporter": "python",
   "pygments_lexer": "ipython3",
   "version": "3.5.2"
  }
 },
 "nbformat": 4,
 "nbformat_minor": 2
}
