{
 "cells": [
  {
   "cell_type": "markdown",
   "metadata": {},
   "source": [
    "## SpiderHacks Python workshop\n",
    "### Code-along (Jan 2019, University of Richmond)\n",
    "### No experience needed!\n",
    "\n",
    "(C) 2019, Aalok S. and the UR ACM team.\n",
    "This project is released under the GNU GPL 3 and the GNU Documentation License 3, wherever applicable.\n",
    "For a copy of the license, please visit https://fsf.org.\n",
    "\n",
    "We will use this iPython notebook for our workshop on Python today.\n",
    "iPython is a handy way to code and also see the results live and in a\n",
    "sequential manner.\n",
    "\n",
    "To get started, please open this notebook through `Binder` if you\n",
    "haven't already, by clicking on the following badge.\n",
    "\n",
    "[![Binder](https://mybinder.org/badge_logo.svg)](https://mybinder.org/v2/gl/aalok-richmond%2Facm-spiderhacks19-pythonwkshp/master)\n",
    "\n",
    "This notebook has text as well as code cells. To select a cell, you could use\n",
    "arrow keys to highlight it and press `return/enter`, or otherwise click inside\n",
    "a cell using your mouse pointer. To run a cell, hit `Ctrl-Enter` (GNU/linux) or\n",
    "`Cmd-Return` (mac). If your code gets stuck, feel free to restart the *kernel*."
   ]
  },
  {
   "cell_type": "markdown",
   "metadata": {},
   "source": [
    "### The basics"
   ]
  },
  {
   "cell_type": "markdown",
   "metadata": {},
   "source": [
    "In Python, any instruction you tell the computer is an *expression*.\n",
    "If you give the computer a really basic expression, it will simply give it back to you.\n",
    "Let's try this in the cells below:"
   ]
  },
  {
   "cell_type": "code",
   "execution_count": 2,
   "metadata": {},
   "outputs": [],
   "source": [
    "# comments start with a hash '#' and are simply ignored"
   ]
  },
  {
   "cell_type": "code",
   "execution_count": 4,
   "metadata": {},
   "outputs": [
    {
     "data": {
      "text/plain": [
       "12"
      ]
     },
     "execution_count": 4,
     "metadata": {},
     "output_type": "execute_result"
    }
   ],
   "source": [
    "# numbers are plain old numbers\n",
    "12"
   ]
  },
  {
   "cell_type": "code",
   "execution_count": 6,
   "metadata": {},
   "outputs": [
    {
     "data": {
      "text/plain": [
       "'text needs to go in quotes'"
      ]
     },
     "execution_count": 6,
     "metadata": {},
     "output_type": "execute_result"
    }
   ],
   "source": [
    "'text needs to go in quotes'"
   ]
  },
  {
   "cell_type": "code",
   "execution_count": 7,
   "metadata": {},
   "outputs": [
    {
     "data": {
      "text/plain": [
       "'use single or double quotes but be consistent!'"
      ]
     },
     "execution_count": 7,
     "metadata": {},
     "output_type": "execute_result"
    }
   ],
   "source": [
    "\"use single or double quotes but be consistent!\""
   ]
  },
  {
   "cell_type": "code",
   "execution_count": 9,
   "metadata": {},
   "outputs": [
    {
     "data": {
      "text/plain": [
       "35"
      ]
     },
     "execution_count": 9,
     "metadata": {},
     "output_type": "execute_result"
    }
   ],
   "source": [
    "# Python does math for you\n",
    "(3+4)*5"
   ]
  },
  {
   "cell_type": "code",
   "execution_count": 11,
   "metadata": {
    "scrolled": true
   },
   "outputs": [
    {
     "data": {
      "text/plain": [
       "16"
      ]
     },
     "execution_count": 11,
     "metadata": {},
     "output_type": "execute_result"
    }
   ],
   "source": [
    "# even stuff that's not plain addition or multiplication\n",
    "2**4"
   ]
  },
  {
   "cell_type": "markdown",
   "metadata": {},
   "source": [
    "Expressions can go inside expressions, just like in math."
   ]
  },
  {
   "cell_type": "code",
   "execution_count": 17,
   "metadata": {},
   "outputs": [
    {
     "data": {
      "text/plain": [
       "4"
      ]
     },
     "execution_count": 17,
     "metadata": {},
     "output_type": "execute_result"
    }
   ],
   "source": [
    "1+(1+2)"
   ]
  },
  {
   "cell_type": "code",
   "execution_count": 20,
   "metadata": {},
   "outputs": [
    {
     "data": {
      "text/plain": [
       "'hello world!'"
      ]
     },
     "execution_count": 20,
     "metadata": {},
     "output_type": "execute_result"
    }
   ],
   "source": [
    "(\"hello\" + \" \" + \"world\") + \"!\""
   ]
  },
  {
   "cell_type": "markdown",
   "metadata": {},
   "source": [
    "The goal of computer programming is to be able to tell the computer useful instructions.\n",
    "The computer is happy to do as instructed for us (well, mostly).\n",
    "\n",
    "We find it useful for the computer to store certain kinds of information in its memory\n",
    "so we don't have to repeat the information everytime we want to do something with it.\n",
    "There comes the notion of *variables*. These things have:\n",
    "- a name\n",
    "- a value\n",
    "\n",
    "Try running the cell below. What are the variables? What are their names? What are their values?"
   ]
  },
  {
   "cell_type": "code",
   "execution_count": 12,
   "metadata": {},
   "outputs": [],
   "source": [
    "my_number = 29\n",
    "my_string = \"Hello world!\""
   ]
  },
  {
   "cell_type": "markdown",
   "metadata": {},
   "source": [
    "Note above the peculiar way we tell Python the names and their *corresponding* values.\n",
    "There are only a handful of ways to do this in any language. This is called a language's Syntax."
   ]
  },
  {
   "cell_type": "markdown",
   "metadata": {},
   "source": [
    "Your instructions about some important task will only be useful if you can see their effect.\n",
    "Sometimes computer need to provide output to you. In Python, we say `print` and supply it an expression enclosed in parentheses. You can print almost anything in Python. Now try it by running the cell below.\n",
    "\n",
    "To change the variable values, simply edit the cell above and re-run it. Then go to the cell below and run it again. The variables should now show the newer values."
   ]
  },
  {
   "cell_type": "code",
   "execution_count": 21,
   "metadata": {
    "scrolled": false
   },
   "outputs": [
    {
     "name": "stdout",
     "output_type": "stream",
     "text": [
      "12\n",
      "print some string\n",
      "29\n",
      "Hello world!\n"
     ]
    }
   ],
   "source": [
    "# print( <some expression> )\n",
    "print(12) # print some number\n",
    "print(\"print some string\") # print some string\n",
    "print(my_number) # print a variable\n",
    "print(my_string) # print another variable"
   ]
  },
  {
   "cell_type": "markdown",
   "metadata": {},
   "source": [
    "Suppose we wanted to print the next 10 numbers after `my_number`. Surely we can do that like so:"
   ]
  },
  {
   "cell_type": "code",
   "execution_count": 16,
   "metadata": {},
   "outputs": [
    {
     "name": "stdout",
     "output_type": "stream",
     "text": [
      "30\n",
      "31\n",
      "32\n",
      "33\n"
     ]
    }
   ],
   "source": [
    "print(my_number + 1)\n",
    "print(my_number + 2)\n",
    "print(my_number + 3)\n",
    "print(my_number + 4)\n",
    "# ... fill out the rest and run the cell"
   ]
  },
  {
   "cell_type": "markdown",
   "metadata": {},
   "source": [
    "That must have been tedious, if you did actually fill it out. Notice there's a predicatble *pattern*\n",
    "in our `print` instructions. Each next instruction changes only in the number added to `my_number`.\n",
    "Thankfully, there's a simpler way to acheive exactly that! Try running the cell below."
   ]
  },
  {
   "cell_type": "code",
   "execution_count": 23,
   "metadata": {},
   "outputs": [
    {
     "name": "stdout",
     "output_type": "stream",
     "text": [
      "30\n",
      "31\n",
      "32\n",
      "33\n",
      "34\n",
      "35\n",
      "36\n",
      "37\n",
      "38\n",
      "39\n"
     ]
    }
   ],
   "source": [
    "for number_to_add in [1,2,3,4,5,6,7,8,9,10]:\n",
    "    print(my_number + number_to_add)"
   ]
  },
  {
   "cell_type": "markdown",
   "metadata": {},
   "source": [
    "What you just did was print a template expression for each of the values in some sort of a list of numbers.\n",
    "There are a couple of new things here. We call this the `for` loop, obviously because of the way it's written:\n",
    "```\n",
    "for x in collection:\n",
    "    do something with 'x' here!\n",
    "```\n",
    "\n",
    "You also saw a list, `[1,2,3,4,5,6,7,8,9,10]`, enclosed by square brackets, and storing comma-separated\n",
    "values. In general, things that store other things are called collections. Lists are just one of\n",
    "many kinds of collections in Python.\n",
    "\n",
    "`for` loops as well as lists are super useful in Python."
   ]
  },
  {
   "cell_type": "markdown",
   "metadata": {},
   "source": [
    "### Transitioning from Java"
   ]
  },
  {
   "cell_type": "markdown",
   "metadata": {},
   "source": [
    "Some of you may be familiar with Java. In this section, we'll look at\n",
    "some of the familiar syntax you may have seen in Java, and explore how\n",
    "to translate it to Python."
   ]
  },
  {
   "cell_type": "markdown",
   "metadata": {},
   "source": [
    "#### The 'main' class and file naming\n",
    "In Java, you likely needed to write code in a `main` method in a `main` class and name files\n",
    "in a peculiar way. Otherwise the Java compiler would have complained. A lot.\n",
    "In Python, you can still have classes and you can name files after them too. However, this is in no way\n",
    "required, and your code will run just fine as long as the code is actually valid.\n",
    "We're using an interpreter kernel right now, so Python code you run here is being run line-by-line,\n",
    "and not compiled and then run all at once."
   ]
  },
  {
   "cell_type": "code",
   "execution_count": 28,
   "metadata": {
    "scrolled": true
   },
   "outputs": [
    {
     "name": "stdout",
     "output_type": "stream",
     "text": [
      "this line will run first, even though an error is coming up\n",
      "this line will run next, even though the error is around the corner\n"
     ]
    },
    {
     "ename": "TypeError",
     "evalue": "Can't convert 'int' object to str implicitly",
     "output_type": "error",
     "traceback": [
      "\u001b[0;31m---------------------------------------------------------------------------\u001b[0m",
      "\u001b[0;31mTypeError\u001b[0m                                 Traceback (most recent call last)",
      "\u001b[0;32m<ipython-input-28-71322874baf0>\u001b[0m in \u001b[0;36m<module>\u001b[0;34m()\u001b[0m\n\u001b[1;32m      1\u001b[0m \u001b[0mprint\u001b[0m\u001b[0;34m(\u001b[0m\u001b[0;34m\"this line will run first, even though an error is coming up\"\u001b[0m\u001b[0;34m)\u001b[0m\u001b[0;34m\u001b[0m\u001b[0m\n\u001b[1;32m      2\u001b[0m \u001b[0mprint\u001b[0m\u001b[0;34m(\u001b[0m\u001b[0;34m\"this line will run next, even though the error is around the corner\"\u001b[0m\u001b[0;34m)\u001b[0m\u001b[0;34m\u001b[0m\u001b[0m\n\u001b[0;32m----> 3\u001b[0;31m \u001b[0mprint\u001b[0m\u001b[0;34m(\u001b[0m\u001b[0;34m\"this line will cause an error because we try to add a number to a string of text\"\u001b[0m \u001b[0;34m+\u001b[0m \u001b[0;36m1\u001b[0m\u001b[0;34m)\u001b[0m\u001b[0;34m\u001b[0m\u001b[0m\n\u001b[0m\u001b[1;32m      4\u001b[0m \u001b[0mprint\u001b[0m\u001b[0;34m(\u001b[0m\u001b[0;34m\"this line will NOT run because the previous one would have caused an error\"\u001b[0m\u001b[0;34m)\u001b[0m\u001b[0;34m\u001b[0m\u001b[0m\n",
      "\u001b[0;31mTypeError\u001b[0m: Can't convert 'int' object to str implicitly"
     ]
    }
   ],
   "source": [
    "print(\"this line will run first, even though an error is coming up\")\n",
    "print(\"this line will run next, even though the error is around the corner\")\n",
    "print(\"this line will cause an error because we try to add a number to a string of text\" + 1)\n",
    "print(\"this line will NOT run because the previous one would have caused an error\")"
   ]
  },
  {
   "cell_type": "markdown",
   "metadata": {},
   "source": [
    "You used to say `System.io.println()` in Java. Instead you say `print()` in Python.\n",
    "If you didn't want the extra line at the end, tell Python! If you want to print many\n",
    "items at once, do that! If you want the items to be separated by some text, no problem."
   ]
  },
  {
   "cell_type": "code",
   "execution_count": 31,
   "metadata": {},
   "outputs": [
    {
     "name": "stdout",
     "output_type": "stream",
     "text": [
      "some text\n",
      "some more textfirst ... second ... third\n"
     ]
    }
   ],
   "source": [
    "print(\"some text\")\n",
    "print(\"some more text\", end=\"\")\n",
    "print(\"first\", \"second\", \"third\", sep=' ... ')"
   ]
  },
  {
   "cell_type": "markdown",
   "metadata": {},
   "source": [
    "In Java you had arrays, arraylists, lists, and so on. In Python we like to keep things simple.\n",
    "You have the `list`, an all-purpose container for stuff."
   ]
  },
  {
   "cell_type": "code",
   "execution_count": 54,
   "metadata": {},
   "outputs": [],
   "source": [
    "my_list = list() # create a list by calling the list constructor function\n",
    "your_list = [] # or, create an empty list explicitly (more common)\n",
    "a_third_list = [0,11,22,33] # create list with items already in it\n",
    "list_of_stuff = [11, \"this is some text\", a_third_list] # anything can go in a list!"
   ]
  },
  {
   "cell_type": "code",
   "execution_count": 55,
   "metadata": {},
   "outputs": [
    {
     "name": "stdout",
     "output_type": "stream",
     "text": [
      "[]\n",
      "[]\n",
      "[0, 11, 22, 33]\n",
      "[11, 'this is some text', [0, 11, 22, 33]]\n"
     ]
    }
   ],
   "source": [
    "print(my_list, your_list, a_third_list, list_of_stuff, sep='\\n')"
   ]
  },
  {
   "cell_type": "markdown",
   "metadata": {},
   "source": [
    "Revisiting the `for` loop. In the cell below, your task will be to write a for loop\n",
    "that goes through each item in `a_list_of_stuff` and prints out the item."
   ]
  },
  {
   "cell_type": "code",
   "execution_count": 40,
   "metadata": {},
   "outputs": [
    {
     "ename": "SyntaxError",
     "evalue": "invalid syntax (<ipython-input-40-2f05f75c301a>, line 1)",
     "output_type": "error",
     "traceback": [
      "\u001b[0;36m  File \u001b[0;32m\"<ipython-input-40-2f05f75c301a>\"\u001b[0;36m, line \u001b[0;32m1\u001b[0m\n\u001b[0;31m    for ? in ?:\u001b[0m\n\u001b[0m        ^\u001b[0m\n\u001b[0;31mSyntaxError\u001b[0m\u001b[0;31m:\u001b[0m invalid syntax\n"
     ]
    }
   ],
   "source": [
    "for ? in ?:\n",
    "    ?"
   ]
  },
  {
   "cell_type": "markdown",
   "metadata": {},
   "source": [
    "To access items from a list, we use index, just like in Java. To access a sub-list,\n",
    "we 'slice' a list. Indices start at 0, just like in Java."
   ]
  },
  {
   "cell_type": "code",
   "execution_count": 61,
   "metadata": {},
   "outputs": [
    {
     "name": "stdout",
     "output_type": "stream",
     "text": [
      "0 11 22\n",
      "[0, 11, 22]\n",
      "[0, 11, 22, 33]\n",
      "[11, 22, 33]\n"
     ]
    }
   ],
   "source": [
    "print(a_third_list[0], a_third_list[1], a_third_list[2])\n",
    "print(a_third_list[0:3]) # upper bound is excluded from slice. lower bound is picked.\n",
    "print(a_third_list[0:4]) # the maximum index of the list is 3.\n",
    "print(a_third_list[1:]) # no upper bound specified: slice includes all the remaining items"
   ]
  },
  {
   "cell_type": "code",
   "execution_count": 63,
   "metadata": {},
   "outputs": [
    {
     "name": "stdout",
     "output_type": "stream",
     "text": [
      "[11, 'this is some text', [0, 11, 22, 33]]\n",
      "['this is some text', [0, 11, 22, 33]]\n",
      "[22, 33]\n",
      "this is some text\n"
     ]
    }
   ],
   "source": [
    "print(list_of_stuff) # plain old print statement on a list\n",
    "print(list_of_stuff[1:]) # pick items from index 1 onwards\n",
    "print(list_of_stuff[2][2:]) # slices can be used on lists, even if they are inside another list\n",
    "print(list_of_stuff[1:][0]) # slices produce lists too, so they can be indexed. or further sliced!"
   ]
  },
  {
   "cell_type": "markdown",
   "metadata": {},
   "source": [
    "Lists are only useful if you can add stuff to them. Fortunately you can do just that."
   ]
  },
  {
   "cell_type": "code",
   "execution_count": 82,
   "metadata": {},
   "outputs": [
    {
     "name": "stdout",
     "output_type": "stream",
     "text": [
      "[]\n"
     ]
    }
   ],
   "source": [
    "my_list = []\n",
    "print(my_list) # is this list empty?"
   ]
  },
  {
   "cell_type": "code",
   "execution_count": 83,
   "metadata": {},
   "outputs": [],
   "source": [
    "my_list.append(32)\n",
    "my_list.append(12)\n",
    "my_list.append(178)"
   ]
  },
  {
   "cell_type": "code",
   "execution_count": 84,
   "metadata": {},
   "outputs": [
    {
     "name": "stdout",
     "output_type": "stream",
     "text": [
      "[32, 12, 178]\n"
     ]
    }
   ],
   "source": [
    "print(my_list) # better not still be empty"
   ]
  },
  {
   "cell_type": "code",
   "execution_count": 85,
   "metadata": {},
   "outputs": [
    {
     "name": "stdout",
     "output_type": "stream",
     "text": [
      "[32, 178]\n"
     ]
    }
   ],
   "source": [
    "del my_list[1] # delete a particular index from the list\n",
    "print(my_list)"
   ]
  }
 ],
 "metadata": {
  "kernelspec": {
   "display_name": "Python 3",
   "language": "python",
   "name": "python3"
  },
  "language_info": {
   "codemirror_mode": {
    "name": "ipython",
    "version": 3
   },
   "file_extension": ".py",
   "mimetype": "text/x-python",
   "name": "python",
   "nbconvert_exporter": "python",
   "pygments_lexer": "ipython3",
   "version": "3.5.2"
  }
 },
 "nbformat": 4,
 "nbformat_minor": 2
}
